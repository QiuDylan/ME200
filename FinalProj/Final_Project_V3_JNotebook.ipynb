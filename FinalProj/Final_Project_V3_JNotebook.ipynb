{
 "cells": [
  {
   "cell_type": "code",
   "execution_count": 38,
   "id": "c063bb9c",
   "metadata": {},
   "outputs": [],
   "source": [
    "from sympy import init_session\n",
    "import math\n",
    "import matplotlib.pyplot as plt\n",
    "import sys\n",
    "import ipywidgets as widgets\n",
    "import numpy as np\n",
    "import imageio.v2 as imageio\n",
    "from IPython.display import Image\n",
    "import pandas as pd\n",
    "import seaborn as sns"
   ]
  },
  {
   "cell_type": "code",
   "execution_count": 59,
   "id": "aeb71861",
   "metadata": {},
   "outputs": [
    {
     "data": {
      "text/plain": [
       "(0.050038, 0.31496, 0.08051799999999999, 340.36)"
      ]
     },
     "execution_count": 59,
     "metadata": {},
     "output_type": "execute_result"
    }
   ],
   "source": [
    "# Size\n",
    "\n",
    "a = 1.97 * 0.0254 #m R2\n",
    "b = 12.4 * 0.0254 #m R3\n",
    "c = 3.17 * 0.0254 #m R4\n",
    "d = 13.4 * 0.0254 #mm R1\n",
    "a, b, c, d"
   ]
  },
  {
   "cell_type": "code",
   "execution_count": 60,
   "id": "c8862bf8",
   "metadata": {},
   "outputs": [],
   "source": [
    "m = 3.48 #kg\n",
    "l = 24.5 * 0.0254 #length of wiper mm\n",
    " = 1/12 * m * l**2 #moment of inertia about com kgm^2\n",
    "mu_k = 0.3  # coefficient of kinetic friction\n",
    "g = 9.81  # gravity (m/s^2)"
   ]
  },
  {
   "cell_type": "code",
   "execution_count": 111,
   "id": "abf653ac",
   "metadata": {},
   "outputs": [
    {
     "name": "stdout",
     "output_type": "stream",
     "text": [
      "no\n"
     ]
    }
   ],
   "source": [
    "#Parameters\n",
    "motor_torque = 30 #nM \n",
    "df = pd.read_csv(\"4bardata.txt\", sep='\\t' , header = None, names = [\"theta_2 [rad]\", \"theta_3 [rad]\", \"theta_4 [rad]\", \"theta_2 [°]\",\"theta_3 [°]\",\"theta_4 [°]\",\"omega_2 [rad/s]\", \"omega_43 [rad/s]\",\"omega_4 [rad/s]\",\"alpha_2 [rad/s^2]\",\"alpha_3 [rad/s^2]\",\"alpha_4 [rad/s^2]\"])\n",
    "#df.head(20)\n",
    "#print(df.shape[0])\n",
    "if ((df[\"theta_2 [rad]\"][200])< np.pi/2).any():\n",
    "    print('hello')\n",
    "else:\n",
    "    print('no')\n"
   ]
  },
  {
   "cell_type": "code",
   "execution_count": 123,
   "id": "0fbcbbfe",
   "metadata": {},
   "outputs": [
    {
     "name": "stdout",
     "output_type": "stream",
     "text": [
      "1\n"
     ]
    },
    {
     "ename": "IndexError",
     "evalue": "list index out of range",
     "output_type": "error",
     "traceback": [
      "\u001b[0;31m---------------------------------------------------------------------------\u001b[0m",
      "\u001b[0;31mIndexError\u001b[0m                                Traceback (most recent call last)",
      "Cell \u001b[0;32mIn[123], line 29\u001b[0m\n\u001b[1;32m     27\u001b[0m     tau_out\u001b[38;5;241m.\u001b[39mappend(temp5)  \n\u001b[1;32m     28\u001b[0m \u001b[38;5;28;01melif\u001b[39;00m((df[\u001b[38;5;124m\"\u001b[39m\u001b[38;5;124mtheta_4 [°]\u001b[39m\u001b[38;5;124m\"\u001b[39m][j])\u001b[38;5;241m>\u001b[39m \u001b[38;5;241m90\u001b[39m)\u001b[38;5;241m.\u001b[39many() \u001b[38;5;241m&\u001b[39m ((df[\u001b[38;5;124m\"\u001b[39m\u001b[38;5;124mtheta_4 [°]\u001b[39m\u001b[38;5;124m\"\u001b[39m][j]) \u001b[38;5;241m<\u001b[39m\u001b[38;5;241m=\u001b[39m \u001b[38;5;241m180\u001b[39m)\u001b[38;5;241m.\u001b[39many():\n\u001b[0;32m---> 29\u001b[0m     temp6 \u001b[38;5;241m=\u001b[39m c \u001b[38;5;241m*\u001b[39m \u001b[43mtau1\u001b[49m\u001b[43m[\u001b[49m\u001b[43mj\u001b[49m\u001b[43m]\u001b[49m \u001b[38;5;241m*\u001b[39m np\u001b[38;5;241m.\u001b[39msin(np\u001b[38;5;241m.\u001b[39mpi \u001b[38;5;241m-\u001b[39m np\u001b[38;5;241m.\u001b[39mradians(theta_in[j]))\n\u001b[1;32m     30\u001b[0m     tau_out\u001b[38;5;241m.\u001b[39mappend(temp6)\n",
      "\u001b[0;31mIndexError\u001b[0m: list index out of range"
     ]
    }
   ],
   "source": [
    "#Torque Calculations\n",
    "\n",
    "for i in range(df.shape[0]):\n",
    "    tau1 = []\n",
    "    if ((df[\"theta_2 [°]\"][i])>0).any() & ((df[\"theta_2 [°]\"][i]) <= 90).any():\n",
    "        temp1 = a * motor_torque * np.sin(np.radians(df[\"theta_2 [°]\"][i])) \n",
    "        tau1.append(temp1)\n",
    "        \n",
    "    elif((df[\"theta_2 [°]\"][i])> 90).any() & ((df[\"theta_2 [°]\"][i]) <= 180).any():\n",
    "        temp2 = a * motor_torque * np.sin(np.pi - np.radians(df[\"theta_2 [°]\"][i]))\n",
    "        tau1.append(temp2)\n",
    "        \n",
    "    elif ((df[\"theta_2 [°]\"][i])> 180).any() & ((df[\"theta_2 [°]\"][i]) <= 270).any():\n",
    "        temp3 = a * motor_torque * np.sin(np.radians(df[\"theta_2 [°]\"][i]) - np.pi)\n",
    "        tau1.append(temp3)\n",
    "        \n",
    "    elif((df[\"theta_2 [°]\"][i])> 270).any() & ((df[\"theta_2 [°]\"][i]) <= 360).any():\n",
    "        temp4 = a* motor_torque * np.sin(2 * np.pi - np.radians(df[\"theta_2 [°]\"][i]))\n",
    "        tau1.append(temp4)\n",
    "       \n",
    "print(len(tau1))\n",
    "for j in range(df.shape[0]):\n",
    "    tau_out = []\n",
    "    theta_in =  abs(- df[\"theta_3 [°]\"][j]- df[\"theta_4 [°]\"][j])\n",
    "    if ((df[\"theta_4 [°]\"][j])>0).any() & ((df[\"theta_4 [°]\"][j]) <= 90).any():\n",
    "        temp5 = c * tau1[j] * np.sin(np.radians(theta_in[j]))\n",
    "        tau_out.append(temp5)  \n",
    "    elif((df[\"theta_4 [°]\"][j])> 90).any() & ((df[\"theta_4 [°]\"][j]) <= 180).any():\n",
    "        temp6 = c * tau1[j] * np.sin(np.pi - np.radians(theta_in[j]))\n",
    "        tau_out.append(temp6) \n",
    "    "
   ]
  },
  {
   "cell_type": "code",
   "execution_count": null,
   "id": "6d833272",
   "metadata": {},
   "outputs": [],
   "source": []
  },
  {
   "cell_type": "code",
   "execution_count": null,
   "id": "dd59ebb2",
   "metadata": {},
   "outputs": [],
   "source": []
  }
 ],
 "metadata": {
  "kernelspec": {
   "display_name": "base",
   "language": "python",
   "name": "python3"
  },
  "language_info": {
   "codemirror_mode": {
    "name": "ipython",
    "version": 3
   },
   "file_extension": ".py",
   "mimetype": "text/x-python",
   "name": "python",
   "nbconvert_exporter": "python",
   "pygments_lexer": "ipython3",
   "version": "3.10.1"
  }
 },
 "nbformat": 4,
 "nbformat_minor": 5
}
