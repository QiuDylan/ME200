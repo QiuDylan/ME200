{
 "cells": [
  {
   "cell_type": "code",
   "execution_count": 34,
   "id": "c063bb9c",
   "metadata": {},
   "outputs": [],
   "source": [
    "from sympy import init_session\n",
    "import math\n",
    "import matplotlib.pyplot as plt\n",
    "import sys\n",
    "import ipywidgets as widgets\n",
    "import numpy as np\n",
    "import imageio.v2 as imageio\n",
    "from IPython.display import Image\n",
    "import pandas as pd\n",
    "import seaborn as sns"
   ]
  },
  {
   "cell_type": "code",
   "execution_count": 35,
   "id": "c8862bf8",
   "metadata": {},
   "outputs": [],
   "source": [
    "\n",
    "m = 3.48 #kg\n",
    "l = 24.5 * 25.4 #length of wiper mm\n",
    "I = 1/12 * m * l**2 #moment of inertia about com kgm^2"
   ]
  },
  {
   "cell_type": "code",
   "execution_count": 69,
   "id": "abf653ac",
   "metadata": {},
   "outputs": [
    {
     "name": "stdout",
     "output_type": "stream",
     "text": [
      "301\n"
     ]
    }
   ],
   "source": [
    "#Parameters\n",
    "motor_torque = 20 #nM \n",
    "df = pd.read_csv(\"4bardata.txt\", sep='\\t' , header = None, names = [\"theta_2 [rad]\", \"theta_3 [rad]\", \"theta_4 [rad]\", \"theta_2 [°]\",\"theta_3 [°]\",\"theta_4 [°]\",\"omega_2 [rad/s]\", \"omega_43 [rad/s]\",\"omega_4 [rad/s]\",\"alpha_2 [rad/s^2]\",\"alpha_3 [rad/s^2]\",\"alpha_4 [rad/s^2]\"])\n",
    "\n",
    "df.head()\n",
    "print(df.shape[0])"
   ]
  }
 ],
 "metadata": {
  "kernelspec": {
   "display_name": "base",
   "language": "python",
   "name": "python3"
  },
  "language_info": {
   "codemirror_mode": {
    "name": "ipython",
    "version": 3
   },
   "file_extension": ".py",
   "mimetype": "text/x-python",
   "name": "python",
   "nbconvert_exporter": "python",
   "pygments_lexer": "ipython3",
   "version": "3.10.1"
  }
 },
 "nbformat": 4,
 "nbformat_minor": 5
}
