{
 "cells": [
  {
   "cell_type": "code",
   "execution_count": 25,
   "id": "c063bb9c",
   "metadata": {},
   "outputs": [],
   "source": [
    "from sympy import init_session\n",
    "import math\n",
    "import matplotlib.pyplot as plt\n",
    "import sys\n",
    "import ipywidgets as widgets\n",
    "import numpy as np\n",
    "import imageio.v2 as imageio\n",
    "from IPython.display import Image\n",
    "import pandas as pd\n",
    "import seaborn as sns"
   ]
  },
  {
   "cell_type": "code",
   "execution_count": 26,
   "id": "aeb71861",
   "metadata": {},
   "outputs": [
    {
     "data": {
      "text/plain": [
       "(50.038, 314.96, 80.518, 340.36)"
      ]
     },
     "execution_count": 26,
     "metadata": {},
     "output_type": "execute_result"
    }
   ],
   "source": [
    "# Size\n",
    "\n",
    "a = 1.97 * 25.4 #mm R2\n",
    "b = 12.4 * 25.4 #mm R3\n",
    "c = 3.17 * 25.4 #mm R4\n",
    "d = 13.4 * 25.4 #mm R1\n",
    "\n",
    "a, b, c, d"
   ]
  },
  {
   "cell_type": "code",
   "execution_count": 27,
   "id": "c8862bf8",
   "metadata": {},
   "outputs": [],
   "source": [
    "m = 3.48 #kg\n",
    "l = 24.5 * 25.4 #length of wiper mm\n",
    "I = 1/12 * m * l**2 #moment of inertia about com kgm^2"
   ]
  },
  {
   "cell_type": "code",
   "execution_count": 35,
   "id": "abf653ac",
   "metadata": {},
   "outputs": [
    {
     "name": "stdout",
     "output_type": "stream",
     "text": [
      "-0.05424030994835734\n"
     ]
    }
   ],
   "source": [
    "#Parameters\n",
    "motor_torque = 20 #nM \n",
    "df = pd.read_csv(\"4bardata.txt\", sep='\\t' , header = None, names = [\"theta_2 [rad]\", \"theta_3 [rad]\", \"theta_4 [rad]\", \"theta_2 [°]\",\"theta_3 [°]\",\"theta_4 [°]\",\"omega_2 [rad/s]\", \"omega_43 [rad/s]\",\"omega_4 [rad/s]\",\"alpha_2 [rad/s^2]\",\"alpha_3 [rad/s^2]\",\"alpha_4 [rad/s^2]\"])\n",
    "#df.head(20)\n",
    "#print(df.shape[0])\n",
    "print(np.sin(df[\"theta_2 [rad]\"][3]))"
   ]
  },
  {
   "cell_type": "code",
   "execution_count": 32,
   "id": "0fbcbbfe",
   "metadata": {},
   "outputs": [
    {
     "name": "stdout",
     "output_type": "stream",
     "text": [
      "[1000.76]\n",
      "[1000.76]\n",
      "[1000.76]\n",
      "[1000.76]\n"
     ]
    },
    {
     "ename": "IndexError",
     "evalue": "list index out of range",
     "output_type": "error",
     "traceback": [
      "\u001b[0;31m---------------------------------------------------------------------------\u001b[0m",
      "\u001b[0;31mIndexError\u001b[0m                                Traceback (most recent call last)",
      "Cell \u001b[0;32mIn[32], line 17\u001b[0m\n\u001b[1;32m     15\u001b[0m \u001b[38;5;28mprint\u001b[39m(tau1)\n\u001b[1;32m     16\u001b[0m \u001b[38;5;28;01mif\u001b[39;00m np\u001b[38;5;241m.\u001b[39mpi\u001b[38;5;241m/\u001b[39m\u001b[38;5;241m2\u001b[39m \u001b[38;5;241m>\u001b[39m\u001b[38;5;241m=\u001b[39m df[\u001b[38;5;124m\"\u001b[39m\u001b[38;5;124mtheta_4 [rad]\u001b[39m\u001b[38;5;124m\"\u001b[39m][i] \u001b[38;5;241m>\u001b[39m\u001b[38;5;241m0\u001b[39m:\n\u001b[0;32m---> 17\u001b[0m     temp2 \u001b[38;5;241m=\u001b[39m c \u001b[38;5;241m*\u001b[39m \u001b[43mtau1\u001b[49m\u001b[43m[\u001b[49m\u001b[43mi\u001b[49m\u001b[43m]\u001b[49m \u001b[38;5;241m*\u001b[39m np\u001b[38;5;241m.\u001b[39msin(df[\u001b[38;5;124m\"\u001b[39m\u001b[38;5;124mtheta_4 [rad]\u001b[39m\u001b[38;5;124m\"\u001b[39m][i]) \n\u001b[1;32m     18\u001b[0m \u001b[38;5;28;01melif\u001b[39;00m np\u001b[38;5;241m.\u001b[39mpi \u001b[38;5;241m>\u001b[39m\u001b[38;5;241m=\u001b[39m df[\u001b[38;5;124m\"\u001b[39m\u001b[38;5;124mtheta_3 [rad]\u001b[39m\u001b[38;5;124m\"\u001b[39m][i] \u001b[38;5;241m>\u001b[39m np\u001b[38;5;241m.\u001b[39mpi\u001b[38;5;241m/\u001b[39m\u001b[38;5;241m2\u001b[39m:\n\u001b[1;32m     19\u001b[0m     temp2 \u001b[38;5;241m=\u001b[39m c \u001b[38;5;241m*\u001b[39m tau1[i] \u001b[38;5;241m*\u001b[39m np\u001b[38;5;241m.\u001b[39msin(np\u001b[38;5;241m.\u001b[39mpi \u001b[38;5;241m-\u001b[39m df[\u001b[38;5;124m\"\u001b[39m\u001b[38;5;124mtheta_4 [rad]\u001b[39m\u001b[38;5;124m\"\u001b[39m][i])\n",
      "\u001b[0;31mIndexError\u001b[0m: list index out of range"
     ]
    }
   ],
   "source": [
    "#Torque Calculations\n",
    "\n",
    "for i in range(df.shape[0]):\n",
    "    tau1 = []\n",
    "    tau_out = []\n",
    "    if np.pi/2 >= df[\"theta_2 [rad]\"][i] >0:\n",
    "        temp1 = a * motor_torque * np.sin(df[\"theta_2 [rad]\"][i]) \n",
    "    elif np.pi >= df[\"theta_2 [rad]\"][i] > np.pi/2:\n",
    "        temp1 = a * motor_torque * np.sin(np.pi - df[\"theta_2 [rad]\"][i])\n",
    "    elif 3 * np.pi/2 >= df[\"theta_2 [rad]\"][i] > np.pi:\n",
    "        temp1 = a * motor_torque * np.sin(df[\"theta_2 [rad]\"][i] - np.pi)\n",
    "    elif (2* np.pi) >= df[\"theta_2 [rad]\"][i] > (3 * np.pi/2) :\n",
    "        temp1 = a* motor_torque * np.sin(2 * np.pi - df[\"theta_2 [rad]\"][i])\n",
    "    tau1.append(temp1)  \n",
    "    print(tau1)\n",
    "    if np.pi/2 >= df[\"theta_4 [rad]\"][i] >0:\n",
    "        temp2 = c * tau1[i] * np.sin(df[\"theta_4 [rad]\"][i]) \n",
    "    elif np.pi >= df[\"theta_3 [rad]\"][i] > np.pi/2:\n",
    "        temp2 = c * tau1[i] * np.sin(np.pi - df[\"theta_4 [rad]\"][i])\n",
    "    elif 3 * np.pi/2 >= df[\"theta_3 [rad]\"][i] > np.pi:\n",
    "        temp2 = c * tau1[i] * np.sin(df[\"theta_4 [rad]\"][i] - np.pi)\n",
    "    elif (2* np.pi) >= df[\"theta_3 [rad]\"][i] > (3 * np.pi/2) :\n",
    "        temp2 = c* tau1[i] * np.sin(2 * np.pi - df[\"theta_4 [rad]\"][i])\n",
    "    #tau_out.append(temp2)\n",
    "print(tau_out)    \n",
    "    \n"
   ]
  },
  {
   "cell_type": "code",
   "execution_count": null,
   "id": "6d833272",
   "metadata": {},
   "outputs": [],
   "source": []
  },
  {
   "cell_type": "code",
   "execution_count": null,
   "id": "dd59ebb2",
   "metadata": {},
   "outputs": [],
   "source": []
  }
 ],
 "metadata": {
  "kernelspec": {
   "display_name": "base",
   "language": "python",
   "name": "python3"
  },
  "language_info": {
   "codemirror_mode": {
    "name": "ipython",
    "version": 3
   },
   "file_extension": ".py",
   "mimetype": "text/x-python",
   "name": "python",
   "nbconvert_exporter": "python",
   "pygments_lexer": "ipython3",
   "version": "3.10.1"
  }
 },
 "nbformat": 4,
 "nbformat_minor": 5
}
