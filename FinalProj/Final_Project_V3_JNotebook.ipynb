{
 "cells": [
  {
   "cell_type": "code",
   "execution_count": null,
   "id": "2c308379",
   "metadata": {},
   "outputs": [],
   "source": [
    "import numpy as np\n",
    "import matplotlib.pyplot as plt\n",
    "import math\n",
    "import scipy\n"
   ]
  },
  {
   "cell_type": "code",
   "execution_count": null,
   "id": "45ebda9c",
   "metadata": {},
   "outputs": [],
   "source": [
    "l1 = 0.25\n",
    "l2 = 1\n",
    "l3 = 1\n",
    "a1 = np.pi/2\n",
    "dy = 0\n",
    "dx = 0.95\n",
    "Fbar = lambda a1,x: np.array([l1*np.sin(a1)+l2*np.sin(x[0])-l3*np.sin(x[1])-dy,\n",
    "                           l1*np.cos(a1)+l2*np.cos(x[0])-l3*np.cos(x[1])-dx])"
   ]
  },
  {
   "cell_type": "code",
   "execution_count": null,
   "id": "74c64e5a",
   "metadata": {},
   "outputs": [],
   "source": [
    "a1 = np.linspace(0, 2*np.pi)\n",
    "a2 = np.zeros(len(a1))\n",
    "a3 = np.zeros(len(a1))\n",
    "xsol = np.array([0, np.pi/4])\n",
    "for i in range(len(a1)):\n",
    "    xsol = fsolve(lambda x: Fbar(a1[i], x), xsol)\n",
    "    a2[i] = xsol[0]\n",
    "    a3[i] = xsol[1]"
   ]
  },
  {
   "cell_type": "code",
   "execution_count": null,
   "id": "c063bb9c",
   "metadata": {},
   "outputs": [],
   "source": []
  },
  {
   "cell_type": "code",
   "execution_count": null,
   "id": "c8862bf8",
   "metadata": {},
   "outputs": [],
   "source": []
  }
 ],
 "metadata": {
  "kernelspec": {
   "display_name": "Python 3 (ipykernel)",
   "language": "python",
   "name": "python3"
  },
  "language_info": {
   "codemirror_mode": {
    "name": "ipython",
    "version": 3
   },
   "file_extension": ".py",
   "mimetype": "text/x-python",
   "name": "python",
   "nbconvert_exporter": "python",
   "pygments_lexer": "ipython3",
   "version": "3.9.21"
  }
 },
 "nbformat": 4,
 "nbformat_minor": 5
}
